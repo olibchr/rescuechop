{
 "cells": [
  {
   "cell_type": "code",
   "execution_count": 2,
   "metadata": {
    "collapsed": false,
    "scrolled": true
   },
   "outputs": [
    {
     "name": "stdout",
     "output_type": "stream",
     "text": [
      "501\n"
     ]
    },
    {
     "ename": "IndexError",
     "evalue": "list index out of range",
     "output_type": "error",
     "traceback": [
      "\u001b[0;31m---------------------------------------------------------------------------\u001b[0m",
      "\u001b[0;31mIndexError\u001b[0m                                Traceback (most recent call last)",
      "\u001b[0;32m<ipython-input-2-9fa5a4679d76>\u001b[0m in \u001b[0;36m<module>\u001b[0;34m()\u001b[0m\n\u001b[1;32m     38\u001b[0m \u001b[0;32mfor\u001b[0m \u001b[0mpad\u001b[0m \u001b[0;32min\u001b[0m \u001b[0mhelipad_locs\u001b[0m\u001b[0;34m[\u001b[0m\u001b[0;36m1\u001b[0m\u001b[0;34m:\u001b[0m\u001b[0mMAX_RECORDS\u001b[0m\u001b[0;34m]\u001b[0m\u001b[0;34m:\u001b[0m\u001b[0;34m\u001b[0m\u001b[0m\n\u001b[1;32m     39\u001b[0m     folium.Marker(\n\u001b[0;32m---> 40\u001b[0;31m         \u001b[0mlocation\u001b[0m \u001b[0;34m=\u001b[0m \u001b[0;34m[\u001b[0m\u001b[0mpad\u001b[0m\u001b[0;34m[\u001b[0m\u001b[0;36m0\u001b[0m\u001b[0;34m]\u001b[0m\u001b[0;34m,\u001b[0m\u001b[0mpad\u001b[0m\u001b[0;34m[\u001b[0m\u001b[0;36m1\u001b[0m\u001b[0;34m]\u001b[0m\u001b[0;34m]\u001b[0m\u001b[0;34m,\u001b[0m\u001b[0;34m\u001b[0m\u001b[0m\n\u001b[0m\u001b[1;32m     41\u001b[0m         \u001b[0micon\u001b[0m\u001b[0;34m=\u001b[0m\u001b[0mfolium\u001b[0m\u001b[0;34m.\u001b[0m\u001b[0mIcon\u001b[0m\u001b[0;34m(\u001b[0m\u001b[0mcolor\u001b[0m\u001b[0;34m=\u001b[0m\u001b[0;34m'blue'\u001b[0m\u001b[0;34m)\u001b[0m\u001b[0;34m,\u001b[0m\u001b[0;34m\u001b[0m\u001b[0m\n\u001b[1;32m     42\u001b[0m         popup=pad[2]).add_to(map)\n",
      "\u001b[0;31mIndexError\u001b[0m: list index out of range"
     ]
    }
   ],
   "source": [
    "# coding: utf-8\n",
    "\n",
    "# In[ ]:\n",
    "\n",
    "\n",
    "import numpy as np\n",
    "import matplotlib\n",
    "import pandas as pd\n",
    "import hide_code.hide_code as hc\n",
    "import folium\n",
    "import xml.etree.ElementTree as ET\n",
    "from math import cos, sin, sqrt, atan2\n",
    "import math\n",
    "import csv\n",
    "\n",
    "def get_data():\n",
    "    my_helipads = []\n",
    "    with open('../2_data/pads_at_hosps.csv', 'rb') as csvfile:\n",
    "        datareader = csv.reader(csvfile, delimiter=' ', quotechar='|')\n",
    "        for row in datareader:\n",
    "            my_helipads.append(row)\n",
    "\n",
    "    return my_helipads\n",
    "\n",
    "\n",
    "MAP_INIT = (55, 10)\n",
    "\n",
    "# object_data = pd.read_csv(\"\")\n",
    "\n",
    "MAX_RECORDS = 100\n",
    "\n",
    "map = folium.Map(location=MAP_INIT, zoom_start=4)\n",
    "\n",
    "helipad_locs = get_data()\n",
    "\n",
    "print len(helipad_locs)\n",
    "\n",
    "for pad in helipad_locs[1:MAX_RECORDS]:\n",
    "    folium.Marker(\n",
    "        location = [pad[0],pad[1]],\n",
    "        icon=folium.Icon(color='blue'),\n",
    "        popup=pad[2]).add_to(map)\n",
    "\n",
    "map"
   ]
  },
  {
   "cell_type": "code",
   "execution_count": null,
   "metadata": {
    "collapsed": true
   },
   "outputs": [],
   "source": []
  },
  {
   "cell_type": "code",
   "execution_count": null,
   "metadata": {
    "collapsed": true
   },
   "outputs": [],
   "source": []
  }
 ],
 "metadata": {
  "kernelspec": {
   "display_name": "Python 2",
   "language": "python",
   "name": "python2"
  },
  "language_info": {
   "codemirror_mode": {
    "name": "ipython",
    "version": 2
   },
   "file_extension": ".py",
   "mimetype": "text/x-python",
   "name": "python",
   "nbconvert_exporter": "python",
   "pygments_lexer": "ipython2",
   "version": "2.7.12"
  }
 },
 "nbformat": 4,
 "nbformat_minor": 1
}
